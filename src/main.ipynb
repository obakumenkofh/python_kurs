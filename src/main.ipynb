{
 "cells": [
  {
   "cell_type": "code",
   "execution_count": 1,
   "id": "76aa5b92-f711-4774-af9a-ff0cee475f97",
   "metadata": {},
   "outputs": [],
   "source": [
    "from Animal import *\n",
    "from Pet_Shop import *"
   ]
  },
  {
   "cell_type": "code",
   "execution_count": 2,
   "id": "f3d3ea30-77fa-407e-9a44-0835d186f38a",
   "metadata": {},
   "outputs": [],
   "source": [
    "def print_animals(animals):\n",
    "    for animal in animals:\n",
    "        print(animal.get_info())"
   ]
  },
  {
   "cell_type": "code",
   "execution_count": 3,
   "id": "b3b80896-a1d5-4a6d-b1b2-d07a0965844d",
   "metadata": {},
   "outputs": [],
   "source": [
    "animals = generate_animals([2, 2, 2, 2])"
   ]
  },
  {
   "cell_type": "code",
   "execution_count": 4,
   "id": "5d3d2a88-dd44-4463-aaa0-a6300225438c",
   "metadata": {},
   "outputs": [
    {
     "name": "stdout",
     "output_type": "stream",
     "text": [
      "Animal: Dog, name: Bailey, breed: Bulldog, price: 233\n",
      "Animal: Dog, name: Max, breed: Labrador, price: 463\n",
      "Animal: Cat, name: Zoe, breed: Persian, price: 75\n",
      "Animal: Cat, name: Zoe, breed: Siamese, price: 101\n",
      "Animal: Parrot, name: Pickle, breed: Macaw, price: 467\n",
      "Animal: Parrot, name: Cupcake, breed: Cockatiel, price: 114\n",
      "Animal: Fish, name: Pickle, breed: Angelfish, price: 47\n",
      "Animal: Fish, name: Oreo, breed: Goldfish, price: 41\n"
     ]
    }
   ],
   "source": [
    "print_animals(animals)"
   ]
  },
  {
   "cell_type": "code",
   "execution_count": 5,
   "id": "a61f587c-9cee-4c3f-bb9e-a839a06ff694",
   "metadata": {},
   "outputs": [],
   "source": [
    "betty = Dog(\"Benjamin\", \"Dog\", breed=\"colly\", price=0)"
   ]
  },
  {
   "cell_type": "code",
   "execution_count": 6,
   "id": "e82e74f5-6dbb-4436-8d69-f76366396f81",
   "metadata": {},
   "outputs": [
    {
     "name": "stdout",
     "output_type": "stream",
     "text": [
      "Animal: Dog, name: Bailey, breed: Bulldog, price: 233\n",
      "Animal: Dog, name: Max, breed: Labrador, price: 463\n",
      "Animal: Cat, name: Zoe, breed: Persian, price: 75\n",
      "Animal: Cat, name: Zoe, breed: Siamese, price: 101\n",
      "Animal: Parrot, name: Pickle, breed: Macaw, price: 467\n",
      "Animal: Parrot, name: Cupcake, breed: Cockatiel, price: 114\n",
      "Animal: Fish, name: Pickle, breed: Angelfish, price: 47\n",
      "Animal: Fish, name: Oreo, breed: Goldfish, price: 41\n",
      "Animal: Dog, name: Benjamin, breed: colly, price: 0\n"
     ]
    }
   ],
   "source": [
    "animals.append(betty)\n",
    "print_animals(animals)"
   ]
  },
  {
   "cell_type": "code",
   "execution_count": 7,
   "id": "6e0adc6b-4062-4baf-90a6-d1fbeff8a478",
   "metadata": {},
   "outputs": [
    {
     "name": "stdout",
     "output_type": "stream",
     "text": [
      "Animal: Dog, name: Bailey, breed: Bulldog, price: 233\n",
      "Animal: Dog, name: Max, breed: Labrador, price: 463\n",
      "Animal: Cat, name: Zoe, breed: Persian, price: 75\n",
      "Animal: Cat, name: Zoe, breed: Siamese, price: 101\n",
      "Animal: Parrot, name: Pickle, breed: Macaw, price: 467\n",
      "Animal: Parrot, name: Cupcake, breed: Cockatiel, price: 114\n",
      "Animal: Fish, name: Pickle, breed: Angelfish, price: 47\n",
      "Animal: Fish, name: Oreo, breed: Goldfish, price: 41\n",
      "Animal: Dog, name: Benjamin, breed: colly, price: 0\n",
      "Dog Bailey sniffs Zoe the Cat\n",
      "Dog Max sniffs Zoe the Cat\n"
     ]
    }
   ],
   "source": [
    "for animal in animals:\n",
    "    print(animal.get_info())\n",
    "\n",
    "dogs = animals[:2]\n",
    "cats = animals[2:4]\n",
    "\n",
    "for i, dog in enumerate(dogs):\n",
    "    print(dog.greet(cats[i]))"
   ]
  },
  {
   "cell_type": "code",
   "execution_count": 8,
   "id": "933d9a8f-e4be-4e17-8163-964e9b703dad",
   "metadata": {},
   "outputs": [],
   "source": [
    "best_buy = Pet_Shop(\"Olegs Pets\", 1000)"
   ]
  },
  {
   "cell_type": "code",
   "execution_count": 9,
   "id": "7c02b8f8-47ce-4253-bf62-604e37ad0553",
   "metadata": {},
   "outputs": [],
   "source": [
    "best_buy.add_animal(betty)"
   ]
  },
  {
   "cell_type": "code",
   "execution_count": null,
   "id": "757541e9-fdf7-4249-93ee-cbb31e0c88a2",
   "metadata": {},
   "outputs": [],
   "source": []
  }
 ],
 "metadata": {
  "kernelspec": {
   "display_name": "Python 3 (ipykernel)",
   "language": "python",
   "name": "python3"
  },
  "language_info": {
   "codemirror_mode": {
    "name": "ipython",
    "version": 3
   },
   "file_extension": ".py",
   "mimetype": "text/x-python",
   "name": "python",
   "nbconvert_exporter": "python",
   "pygments_lexer": "ipython3",
   "version": "3.9.13"
  }
 },
 "nbformat": 4,
 "nbformat_minor": 5
}
